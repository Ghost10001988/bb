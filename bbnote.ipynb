{
 "cells": [
  {
   "cell_type": "code",
   "execution_count": 2,
   "metadata": {
    "collapsed": false
   },
   "outputs": [
    {
     "name": "stdout",
     "output_type": "stream",
     "text": [
      "Masses:  0.6361725123519333 1\n"
     ]
    },
    {
     "name": "stderr",
     "output_type": "stream",
     "text": [
      "/home/soa/bb/bbrbdl.py:25: FutureWarning: comparison to `None` will result in an elementwise object comparison in the future.\n",
      "  body = rbdl.Body.fromMassComInertia(roller_mass, np.array([0.,0.,0.]), np.diag([1, 1, roller_moi]))\n",
      "/home/soa/bb/bbrbdl.py:36: FutureWarning: comparison to `None` will result in an elementwise object comparison in the future.\n",
      "  body = rbdl.Body.fromMassComInertia(board_mass, np.array([0, 0.5, 0]), np.eye(3)*.1)\n",
      "/home/soa/bb/bbrbdl.py:45: FutureWarning: comparison to `None` will result in an elementwise object comparison in the future.\n",
      "  body = rbdl.Body.fromMassComInertia(body_mass, np.array([0., 0, 0]), np.eye(3) * body_moi)\n"
     ]
    },
    {
     "name": "stdout",
     "output_type": "stream",
     "text": [
      "Starting GL\n",
      "GL Started\n",
      "Masses:  0.6361725123519333 1\n"
     ]
    }
   ],
   "source": [
    "import bb\n",
    "from threading import Thread\n",
    "import queue\n",
    "import system_model\n",
    "import numpy as np\n",
    "import bbrbdl\n",
    "import control\n",
    "import linear_controller\n",
    "from bb_interactive import *\n",
    "\n",
    "BB = begin()\n",
    "M = bbrbdl.BBModel()"
   ]
  },
  {
   "cell_type": "code",
   "execution_count": 2,
   "metadata": {
    "collapsed": false
   },
   "outputs": [
    {
     "name": "stderr",
     "output_type": "stream",
     "text": [
      "/home/soa/anaconda3/lib/python3.5/site-packages/ipykernel/__main__.py:6: VisibleDeprecationWarning: using a non-integer number instead of an integer will result in an error in the future\n",
      "/home/soa/anaconda3/lib/python3.5/site-packages/ipykernel/__main__.py:8: VisibleDeprecationWarning: using a non-integer number instead of an integer will result in an error in the future\n",
      "/home/soa/anaconda3/lib/python3.5/site-packages/numpy/lib/twodim_base.py:233: VisibleDeprecationWarning: using a non-integer number instead of an integer will result in an error in the future\n",
      "  m = zeros((N, M), dtype=dtype)\n",
      "/home/soa/anaconda3/lib/python3.5/site-packages/numpy/lib/twodim_base.py:240: VisibleDeprecationWarning: using a non-integer number instead of an integer will result in an error in the future\n",
      "  m[:M-k].flat[i::M+1] = 1\n",
      "/home/soa/anaconda3/lib/python3.5/site-packages/ipykernel/__main__.py:11: VisibleDeprecationWarning: using a non-integer number instead of an integer will result in an error in the future\n"
     ]
    }
   ],
   "source": [
    "ns = 6\n",
    "s = system_model.Simulation(M.model,np.zeros(ns))\n",
    "X = s.sim(5)\n",
    "\n",
    "lsa = system_model.LinearSystemApproximator()\n",
    "ss = lsa.calculate(M.model, s.x0[:3], s.x0[3:], np.zeros(ns/2))\n",
    "\n",
    "css = control.ss(ss.A, ss.B, np.eye(ns), np.zeros([ns,ns/2]))\n",
    "\n",
    "[K,S,E] = control.lqr(css, np.diag([10, 10, 10, 1, 1, 1]), np.eye(ns/2))\n",
    "P = linear_controller.LinearController( K, np.zeros(ns), np.zeros(ns/2))\n",
    "s.control = P\n",
    "s.x0[0] = -.05\n",
    "s.reset()\n",
    "X = s.simUntil()\n",
    "\n",
    "BB.show_state(X)"
   ]
  },
  {
   "cell_type": "code",
   "execution_count": 3,
   "metadata": {
    "collapsed": false
   },
   "outputs": [
    {
     "name": "stderr",
     "output_type": "stream",
     "text": [
      "/home/soa/anaconda3/lib/python3.5/site-packages/ipykernel/__main__.py:2: VisibleDeprecationWarning: using a non-integer number instead of an integer will result in an error in the future\n",
      "  from ipykernel import kernelapp as app\n"
     ]
    },
    {
     "name": "stdout",
     "output_type": "stream",
     "text": [
      "[[   0.            0.            0.            0.            0.            0.        ]\n",
      " [   0.            0.            0.            0.            0.            0.        ]\n",
      " [ 226.10163173  203.11663233   -0.70710678   63.77619959   55.20173406\n",
      "    -0.95614081]]\n",
      "[-0.7  0.9  0.   0.   0.   0. ]\n"
     ]
    }
   ],
   "source": [
    "s = system_model.Simulation(M.model,np.zeros(ns))\n",
    "css = control.ss(ss.A, ss.B, np.eye(ns), np.zeros([ns,ns/2]))\n",
    "css.B = css.B[:,2:]\n",
    "\n",
    "[w,v] = np.linalg.eig(ss.A)\n",
    "Q = np.diag([1,1,100,1,1,1])\n",
    "Q[:2,:2] = np.asarray([[10,-10],[-10,10]])\n",
    "Q[3:5,3:5] = np.asarray([[10,-10],[-10,10]]) * 10\n",
    "[K,S,E] = control.lqr(css, Q, 200*np.eye(1))\n",
    "K = np.r_[np.zeros([2,ns]),K]\n",
    "print(K)\n",
    "\n",
    "P = linear_controller.LinearController( K )\n",
    "s.control = P\n",
    "s.x0[0] = -.7\n",
    "s.x0[1] = .9\n",
    "s.reset()\n",
    "print(s.x0)\n",
    "X = s.simUntil(tMax = 20)\n",
    "\n",
    "BB.show_state(X)\n"
   ]
  },
  {
   "cell_type": "code",
   "execution_count": 50,
   "metadata": {
    "collapsed": false
   },
   "outputs": [
    {
     "data": {
      "text/plain": [
       "array([  0.00000000e+00+0.j        ,   0.00000000e+00+0.j        ,\n",
       "        -4.53749503e+00+0.j        ,   6.52256027e-16+4.78999253j,\n",
       "         6.52256027e-16-4.78999253j,   4.53749503e+00+0.j        ])"
      ]
     },
     "execution_count": 50,
     "metadata": {},
     "output_type": "execute_result"
    }
   ],
   "source": [
    "[w,v] = np.linalg.eig(ss.A)\n",
    "w"
   ]
  },
  {
   "cell_type": "code",
   "execution_count": 53,
   "metadata": {
    "collapsed": false
   },
   "outputs": [
    {
     "name": "stderr",
     "output_type": "stream",
     "text": [
      "/home/soa/anaconda3/lib/python3.5/site-packages/ipykernel/__main__.py:6: ComplexWarning: Casting complex values to real discards the imaginary part\n"
     ]
    }
   ],
   "source": [
    "\n",
    "BB.show_state(show_mode(v[:,5]))"
   ]
  },
  {
   "cell_type": "code",
   "execution_count": null,
   "metadata": {
    "collapsed": false
   },
   "outputs": [],
   "source": [
    "s.control.computeU(s.x0,s.tau)\n",
    "s.tau\n",
    "s.reset()\n",
    "s.sim(10/30.)\n",
    "\n",
    "P = linear_controller.LinearController( K, np.zeros(4), np.zeros(2))\n",
    "s.control = P\n",
    "s.x0 = np.asarray([.05,0,0,0])\n",
    "s.reset()\n",
    "BB.show_state(s.simUntil())\n"
   ]
  },
  {
   "cell_type": "code",
   "execution_count": null,
   "metadata": {
    "collapsed": false
   },
   "outputs": [],
   "source": [
    "s.X[1,:]\n",
    "np.linalg.norm(s.X[:,20])\n",
    "system_model.stateLimits(1e-3,1e2)(s.X[:,20])\n",
    "\n",
    "if True and not "
   ]
  }
 ],
 "metadata": {
  "anaconda-cloud": {},
  "kernelspec": {
   "display_name": "Python [conda root]",
   "language": "python",
   "name": "conda-root-py"
  },
  "language_info": {
   "codemirror_mode": {
    "name": "ipython",
    "version": 3
   },
   "file_extension": ".py",
   "mimetype": "text/x-python",
   "name": "python",
   "nbconvert_exporter": "python",
   "pygments_lexer": "ipython3",
   "version": "3.5.2"
  }
 },
 "nbformat": 4,
 "nbformat_minor": 1
}
