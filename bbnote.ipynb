{
 "cells": [
  {
   "cell_type": "code",
   "execution_count": 1,
   "metadata": {
    "collapsed": false
   },
   "outputs": [
    {
     "name": "stdout",
     "output_type": "stream",
     "text": [
      "Masses:  0.6361725123519333 1\n"
     ]
    },
    {
     "name": "stderr",
     "output_type": "stream",
     "text": [
      "/home/soa/bb/bbrbdl.py:31: FutureWarning: comparison to `None` will result in an elementwise object comparison in the future.\n",
      "  body = rbdl.Body.fromMassComInertia(roller_mass, np.array([0.,0.,0.]), np.diag([1, 1, roller_moi]))\n",
      "/home/soa/bb/bbrbdl.py:42: FutureWarning: comparison to `None` will result in an elementwise object comparison in the future.\n",
      "  body = rbdl.Body.fromMassComInertia(board_mass, np.array([0, 0.5, 0]), np.eye(3)*.1)\n",
      "/home/soa/bb/bbrbdl.py:66: FutureWarning: comparison to `None` will result in an elementwise object comparison in the future.\n",
      "  body = rbdl.Body.fromMassComInertia(body_mass, np.array([0, 0., 0]), np.eye(3) * body_moi)\n"
     ]
    }
   ],
   "source": [
    "import bb\n",
    "from threading import Thread\n",
    "import queue\n",
    "import system_model\n",
    "import numpy as np\n",
    "import bbrbdl\n",
    "import control\n",
    "import linear_controller\n",
    "from bb_interactive import *\n",
    "%matplotlib inline\n",
    "from matplotlib import pyplot as plt\n",
    "\n",
    "BB = begin()\n",
    "M = bbrbdl.BBModel(bbrbdl.BBParams())"
   ]
  },
  {
   "cell_type": "code",
   "execution_count": 2,
   "metadata": {
    "collapsed": false
   },
   "outputs": [
    {
     "name": "stderr",
     "output_type": "stream",
     "text": [
      "/home/soa/anaconda3/lib/python3.5/site-packages/ipykernel/__main__.py:7: VisibleDeprecationWarning: using a non-integer number instead of an integer will result in an error in the future\n",
      "/home/soa/anaconda3/lib/python3.5/site-packages/ipykernel/__main__.py:8: VisibleDeprecationWarning: using a non-integer number instead of an integer will result in an error in the future\n",
      "/home/soa/anaconda3/lib/python3.5/site-packages/ipykernel/__main__.py:10: VisibleDeprecationWarning: using a non-integer number instead of an integer will result in an error in the future\n",
      "/home/soa/anaconda3/lib/python3.5/site-packages/numpy/lib/twodim_base.py:233: VisibleDeprecationWarning: using a non-integer number instead of an integer will result in an error in the future\n",
      "  m = zeros((N, M), dtype=dtype)\n",
      "/home/soa/anaconda3/lib/python3.5/site-packages/numpy/lib/twodim_base.py:240: VisibleDeprecationWarning: using a non-integer number instead of an integer will result in an error in the future\n",
      "  m[:M-k].flat[i::M+1] = 1\n",
      "/home/soa/bb/system_model.py:56: VisibleDeprecationWarning: using a non-integer number instead of an integer will result in an error in the future\n",
      "  norm = np.linalg.norm(x[vel_idx:])\n"
     ]
    }
   ],
   "source": [
    "ns = M.model.q_size + M.model.qdot_size\n",
    "s = system_model.Simulation(M.model,np.zeros(ns))\n",
    "X = s.sim(5)\n",
    "\n",
    "lsa = system_model.LinearSystemApproximator()\n",
    "#u0 = np.array([0,0,-1,1])*3*9.81*.1\n",
    "u0 = np.zeros(ns/2)\n",
    "ss = lsa.calculate(M.model, s.x0[:ns/2], s.x0[ns/2:], u0 )\n",
    "\n",
    "css = control.ss(ss.A, ss.B, np.eye(ns), np.zeros([ns,ns/2]))\n",
    "\n",
    "[K,S,E] = control.lqr(css, np.diag(np.ones(ns)), np.eye(ns/2))\n",
    "P = linear_controller.LinearController( K, np.zeros(ns),u0)\n",
    "s.control = P\n",
    "s.x0[0] = -.05\n",
    "s.reset()\n",
    "X = s.simUntil()\n",
    "\n",
    "BB.show_state(X)"
   ]
  },
  {
   "cell_type": "code",
   "execution_count": 3,
   "metadata": {
    "collapsed": false
   },
   "outputs": [
    {
     "name": "stderr",
     "output_type": "stream",
     "text": [
      "/home/soa/anaconda3/lib/python3.5/site-packages/ipykernel/__main__.py:2: VisibleDeprecationWarning: using a non-integer number instead of an integer will result in an error in the future\n",
      "  from ipykernel import kernelapp as app\n",
      "/home/soa/anaconda3/lib/python3.5/site-packages/ipykernel/__main__.py:27: VisibleDeprecationWarning: using a non-integer number instead of an integer will result in an error in the future\n",
      "/home/soa/bb/system_model.py:56: VisibleDeprecationWarning: using a non-integer number instead of an integer will result in an error in the future\n",
      "  norm = np.linalg.norm(x[vel_idx:])\n"
     ]
    },
    {
     "name": "stdout",
     "output_type": "stream",
     "text": [
      "[[  0.           0.           0.           0.           0.           0.        ]\n",
      " [  0.           0.           0.           0.           0.           0.        ]\n",
      " [ 43.20457921  36.89175466   0.          10.27993658   8.64147452\n",
      "   -0.31622777]]\n",
      "[ 0.  0.  0.  0.  0.  0.]\n"
     ]
    }
   ],
   "source": [
    "s = system_model.Simulation(M.model,np.zeros(ns))\n",
    "css = control.ss(ss.A, ss.B, np.eye(ns), np.zeros([ns,ns/2]))\n",
    "#delay = control.pade(.05, 5)\n",
    "#css = control.series(css, delay)\n",
    "\n",
    "css.B = css.B[:,2:]\n",
    "css.A = np.delete(css.A, 2, 0)\n",
    "css.A = np.delete(css.A, 2, 1)\n",
    "css.B = np.delete(css.B, 2, 0)\n",
    "css.C = np.delete(css.C, 2, 0)\n",
    "css.C = np.delete(css.C, 2, 1)\n",
    "css.D = np.delete(css.D, 2, 0)\n",
    "\n",
    "[w,v] = np.linalg.eig(ss.A)\n",
    "V = np.real(v)\n",
    "D = (np.real(w)+np.abs(np.real(w)))*10+1\n",
    "#Q = V.dot(np.diag(D)).dot(np.transpose(V))\n",
    "\n",
    "Q = np.diag([1, 1, 1, 1, 10])\n",
    "\n",
    "[K,S,E] = control.lqr(css, Q, 100*np.eye(css.B.shape[1]))\n",
    "K = np.r_[np.zeros([2,ns]),np.insert(K,2,0,1)]#,np.zeros([1,ns])]\n",
    "print(K)\n",
    "\n",
    "P = linear_controller.LinearController( K, q0 = np.array([0, 0, 0, 0, 0, 0]), u0 = u0)\n",
    "P = linear_controller.ControlDelay(P, 0)\n",
    "D = np.zeros(ns/2)\n",
    "D[0] = 1\n",
    "D[1] = 1\n",
    "P = linear_controller.AddControl(P, linear_controller.Disturbance(150, 300, D))\n",
    "s.control = P\n",
    "s.x0[0] = 0\n",
    "s.x0[1] = 0\n",
    "s.reset()\n",
    "print(s.x0)\n",
    "X = s.simUntil(tMax = 20, tMin = 2)\n",
    "BB.show_state(X)\n"
   ]
  },
  {
   "cell_type": "code",
   "execution_count": 4,
   "metadata": {
    "collapsed": false
   },
   "outputs": [
    {
     "name": "stdout",
     "output_type": "stream",
     "text": [
      "[[  0.           0.           0.           0.           0.           0.        ]\n",
      " [  0.           0.           0.           0.           0.           0.        ]\n",
      " [ 43.20457921  36.89175466   0.          10.27993658   8.64147452\n",
      "   -0.31622777]]\n"
     ]
    },
    {
     "data": {
      "image/png": "[encoded data removed]",
      "text/plain": [
       "<matplotlib.figure.Figure at 0x7f50012c2438>"
      ]
     },
     "metadata": {},
     "output_type": "display_data"
    }
   ],
   "source": [
    "plt.plot(np.transpose(s.T[:,:]))\n",
    "print(K)\n",
    "plt.show()\n",
    "\n"
   ]
  },
  {
   "cell_type": "code",
   "execution_count": 5,
   "metadata": {
    "collapsed": false
   },
   "outputs": [
    {
     "name": "stderr",
     "output_type": "stream",
     "text": [
      "/home/soa/anaconda3/lib/python3.5/site-packages/ipykernel/__main__.py:3: VisibleDeprecationWarning: using a non-integer number instead of an integer will result in an error in the future\n",
      "  app.launch_new_instance()\n"
     ]
    },
    {
     "name": "stdout",
     "output_type": "stream",
     "text": [
      "[[ 0.  1.  0.  0.  0.]\n",
      " [ 0.  0.  1.  0.  0.]\n",
      " [ 0.  0.  0.  1.  0.]\n",
      " [ 0.  0.  0.  0.  1.]\n",
      " [ 0.  0.  0.  0.  0.]] [[0]\n",
      " [0]\n",
      " [0]\n",
      " [0]\n",
      " [1]] [[1 0 0 0 0]] [ 0.]\n"
     ]
    },
    {
     "ename": "ValueError",
     "evalue": "C = A * B: A has 1 column(s) (input(s)), but B has 8 row(s)\n(output(s)).",
     "output_type": "error",
     "traceback": [
      "\u001b[0;31m---------------------------------------------------------------------------\u001b[0m",
      "\u001b[0;31mValueError\u001b[0m                                Traceback (most recent call last)",
      "\u001b[0;32m<ipython-input-5-0b2330ec0e84>\u001b[0m in \u001b[0;36m<module>\u001b[0;34m()\u001b[0m\n\u001b[1;32m      8\u001b[0m \u001b[0mprint\u001b[0m\u001b[0;34m(\u001b[0m\u001b[0mdA\u001b[0m\u001b[0;34m,\u001b[0m\u001b[0mdB\u001b[0m\u001b[0;34m,\u001b[0m\u001b[0mdC\u001b[0m\u001b[0;34m,\u001b[0m\u001b[0mdD\u001b[0m\u001b[0;34m)\u001b[0m\u001b[0;34m\u001b[0m\u001b[0m\n\u001b[1;32m      9\u001b[0m \u001b[0mdelay\u001b[0m \u001b[0;34m=\u001b[0m \u001b[0mcontrol\u001b[0m\u001b[0;34m.\u001b[0m\u001b[0mss\u001b[0m\u001b[0;34m(\u001b[0m\u001b[0mdA\u001b[0m\u001b[0;34m,\u001b[0m\u001b[0mdB\u001b[0m\u001b[0;34m,\u001b[0m\u001b[0mdC\u001b[0m\u001b[0;34m,\u001b[0m\u001b[0mdD\u001b[0m\u001b[0;34m,\u001b[0m\u001b[0;36m.05\u001b[0m\u001b[0;34m/\u001b[0m\u001b[0;36m5\u001b[0m\u001b[0;34m)\u001b[0m\u001b[0;34m\u001b[0m\u001b[0m\n\u001b[0;32m---> 10\u001b[0;31m \u001b[0mcss\u001b[0m \u001b[0;34m=\u001b[0m \u001b[0mcontrol\u001b[0m\u001b[0;34m.\u001b[0m\u001b[0mseries\u001b[0m\u001b[0;34m(\u001b[0m\u001b[0mcss\u001b[0m\u001b[0;34m,\u001b[0m \u001b[0mdelay\u001b[0m\u001b[0;34m)\u001b[0m\u001b[0;34m\u001b[0m\u001b[0m\n\u001b[0m\u001b[1;32m     11\u001b[0m \u001b[0mprint\u001b[0m\u001b[0;34m(\u001b[0m\u001b[0mcss\u001b[0m\u001b[0;34m)\u001b[0m\u001b[0;34m\u001b[0m\u001b[0m\n",
      "\u001b[0;32m/home/soa/anaconda3/lib/python3.5/site-packages/control/bdalg.py\u001b[0m in \u001b[0;36mseries\u001b[0;34m(sys1, sys2)\u001b[0m\n\u001b[1;32m     99\u001b[0m     \"\"\"\n\u001b[1;32m    100\u001b[0m \u001b[0;34m\u001b[0m\u001b[0m\n\u001b[0;32m--> 101\u001b[0;31m     \u001b[0;32mreturn\u001b[0m \u001b[0msys2\u001b[0m \u001b[0;34m*\u001b[0m \u001b[0msys1\u001b[0m\u001b[0;34m\u001b[0m\u001b[0m\n\u001b[0m\u001b[1;32m    102\u001b[0m \u001b[0;34m\u001b[0m\u001b[0m\n\u001b[1;32m    103\u001b[0m \u001b[0;32mdef\u001b[0m \u001b[0mparallel\u001b[0m\u001b[0;34m(\u001b[0m\u001b[0msys1\u001b[0m\u001b[0;34m,\u001b[0m \u001b[0msys2\u001b[0m\u001b[0;34m)\u001b[0m\u001b[0;34m:\u001b[0m\u001b[0;34m\u001b[0m\u001b[0m\n",
      "\u001b[0;32m/home/soa/anaconda3/lib/python3.5/site-packages/control/statesp.py\u001b[0m in \u001b[0;36m__mul__\u001b[0;34m(self, other)\u001b[0m\n\u001b[1;32m    311\u001b[0m             \u001b[0;32mif\u001b[0m \u001b[0mself\u001b[0m\u001b[0;34m.\u001b[0m\u001b[0minputs\u001b[0m \u001b[0;34m!=\u001b[0m \u001b[0mother\u001b[0m\u001b[0;34m.\u001b[0m\u001b[0moutputs\u001b[0m\u001b[0;34m:\u001b[0m\u001b[0;34m\u001b[0m\u001b[0m\n\u001b[1;32m    312\u001b[0m                 raise ValueError(\"C = A * B: A has %i column(s) (input(s)), \\\n\u001b[0;32m--> 313\u001b[0;31m but B has %i row(s)\\n(output(s)).\" % (self.inputs, other.outputs))\n\u001b[0m\u001b[1;32m    314\u001b[0m \u001b[0;34m\u001b[0m\u001b[0m\n\u001b[1;32m    315\u001b[0m             \u001b[0;31m# Figure out the sampling time to use\u001b[0m\u001b[0;34m\u001b[0m\u001b[0;34m\u001b[0m\u001b[0m\n",
      "\u001b[0;31mValueError\u001b[0m: C = A * B: A has 1 column(s) (input(s)), but B has 8 row(s)\n(output(s))."
     ]
    }
   ],
   "source": [
    "#sensor time delays\n",
    "\n",
    "css = control.ss(ss.A, ss.B, np.eye(ns), np.zeros([ns,ns/2]))\n",
    "dA = np.diag(np.ones(4),1)\n",
    "dB = np.transpose(np.matrix([0,0,0,0,1]))\n",
    "dC = np.matrix([1,0,0,0,0])\n",
    "dD = np.zeros(1)\n",
    "print(dA,dB,dC,dD)\n",
    "delay = control.ss(dA,dB,dC,dD,.05/5)\n",
    "css = control.series(css, delay)\n",
    "print(css)"
   ]
  },
  {
   "cell_type": "code",
   "execution_count": 6,
   "metadata": {
    "collapsed": false
   },
   "outputs": [
    {
     "data": {
      "image/png": "[encoded data removed]",
      "text/plain": [
       "<matplotlib.figure.Figure at 0x7f84df5eb940>"
      ]
     },
     "metadata": {},
     "output_type": "display_data"
    }
   ],
   "source": [
    "[w,v] = np.linalg.eig(ss.A)\n",
    "np.real(w)+np.abs(np.real(w))+1\n",
    "%matplotlib inline\n",
    "from matplotlib import pyplot as plt\n",
    "plt.plot(np.transpose(s.T))\n",
    "plt.show()"
   ]
  },
  {
   "cell_type": "code",
   "execution_count": 24,
   "metadata": {
    "collapsed": false
   },
   "outputs": [
    {
     "name": "stdout",
     "output_type": "stream",
     "text": [
      "[ -1.28785871e-14 +7.89868833e+00j  -1.28785871e-14 -7.89868833e+00j\n",
      "   5.46257231e+00 +0.00000000e+00j  -5.46257231e+00 +0.00000000e+00j\n",
      "   4.44089210e-15 +4.88681973e+00j   4.44089210e-15 -4.88681973e+00j\n",
      "  -1.09280802e-16 +6.48956474e-13j  -1.09280802e-16 -6.48956474e-13j] (8, 8)\n"
     ]
    }
   ],
   "source": [
    "def show_mode(x, amp = 1, n = 120):\n",
    "    X = np.zeros([x.size, n])\n",
    "    X[:,0] = x*.1\n",
    "    for i in range(1,n):        \n",
    "        X[:,i] = X[:,i-1] + 1/30. * ss.A.dot(X[:,i-1])\n",
    "    return X\n",
    "print(w,v.shape)\n",
    "BB.show_state(show_mode(np.real(v[:,0])))"
   ]
  },
  {
   "cell_type": "code",
   "execution_count": null,
   "metadata": {
    "collapsed": false
   },
   "outputs": [],
   "source": [
    "s.control.computeU(s.x0,s.tau)\n",
    "s.tau\n",
    "s.reset()\n",
    "s.sim(10/30.)\n",
    "\n",
    "P = linear_controller.LinearController( K, np.zeros(4), np.zeros(2))\n",
    "s.control = P\n",
    "s.x0 = np.asarray([.05,0,0,0])\n",
    "s.reset()\n",
    "BB.show_state(s.simUntil())\n"
   ]
  },
  {
   "cell_type": "code",
   "execution_count": null,
   "metadata": {
    "collapsed": false
   },
   "outputs": [],
   "source": [
    "s.X[1,:]\n",
    "np.linalg.norm(s.X[:,20])\n",
    "system_model.stateLimits(1e-3,1e2)(s.X[:,20])\n",
    "\n",
    "if True and not "
   ]
  }
 ],
 "metadata": {
  "anaconda-cloud": {},
  "kernelspec": {
   "display_name": "Python [conda root]",
   "language": "python",
   "name": "conda-root-py"
  },
  "language_info": {
   "codemirror_mode": {
    "name": "ipython",
    "version": 3
   },
   "file_extension": ".py",
   "mimetype": "text/x-python",
   "name": "python",
   "nbconvert_exporter": "python",
   "pygments_lexer": "ipython3",
   "version": "3.5.2"
  }
 },
 "nbformat": 4,
 "nbformat_minor": 1
}
